{
 "cells": [
  {
   "cell_type": "code",
   "execution_count": 6,
   "id": "9bc9a9f8-7521-49a0-8e52-1874a59adc59",
   "metadata": {},
   "outputs": [
    {
     "ename": "SyntaxError",
     "evalue": "invalid character '–' (U+2013) (4046178761.py, line 1)",
     "output_type": "error",
     "traceback": [
      "\u001b[0;36m  Cell \u001b[0;32mIn[6], line 1\u001b[0;36m\u001b[0m\n\u001b[0;31m    python3 -m pip install –upgrade pip\u001b[0m\n\u001b[0m                           ^\u001b[0m\n\u001b[0;31mSyntaxError\u001b[0m\u001b[0;31m:\u001b[0m invalid character '–' (U+2013)\n"
     ]
    }
   ],
   "source": [
    "python3 -m pip install –upgrade pip"
   ]
  },
  {
   "cell_type": "code",
   "execution_count": null,
   "id": "3f89dda3-729f-49e7-8c02-48abed8e52c9",
   "metadata": {},
   "outputs": [],
   "source": [
    "!git clone https://github.com/based9based/roop\n",
    "%cd roop\n",
    "!pip install -r requirements.txt"
   ]
  },
  {
   "cell_type": "code",
   "execution_count": null,
   "id": "9be7df04-e197-41e2-8259-a845d683e6e0",
   "metadata": {},
   "outputs": [],
   "source": [
    "!pip install -r requirements.txt\n"
   ]
  },
  {
   "cell_type": "code",
   "execution_count": null,
   "id": "5fb7b6d9-4709-4876-8eab-52e0eec5f85f",
   "metadata": {},
   "outputs": [],
   "source": [
    "#!/usr/bin/env python3\n",
    "\n",
    "from roop import core\n",
    "\n",
    "if __name__ == '__main__':\n",
    "    core.run()\n",
    "    "
   ]
  },
  {
   "cell_type": "code",
   "execution_count": null,
   "id": "803f8875-a668-4d58-9d1a-a5debd070f8c",
   "metadata": {},
   "outputs": [],
   "source": [
    "!python run.py --target /Users/mahmoudalqammari/Documents/Personal/roop/10.mp4 --source /Users/mahmoudalqammari/Documents/Personal/roop/SNad2.jpg -o /Users/mahmoudalqammari/Documents/Personal/swapped.mp4 --execution-provider cuda --frame-processor face_swapper face_enhancer"
   ]
  }
 ],
 "metadata": {
  "kernelspec": {
   "display_name": "Python 3 (ipykernel)",
   "language": "python",
   "name": "python3"
  },
  "language_info": {
   "codemirror_mode": {
    "name": "ipython",
    "version": 3
   },
   "file_extension": ".py",
   "mimetype": "text/x-python",
   "name": "python",
   "nbconvert_exporter": "python",
   "pygments_lexer": "ipython3",
   "version": "3.12.1"
  }
 },
 "nbformat": 4,
 "nbformat_minor": 5
}
